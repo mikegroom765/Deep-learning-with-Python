{
 "cells": [
  {
   "cell_type": "markdown",
   "metadata": {},
   "source": [
    "The fundamental issue in machine learning is the tension between optimisation and generalisation. A robust fit occurs when the training and validation losses diverge. This is when the model starts to learn details about the training data that are misleading or irrelevent when it comes to the new data. \n",
    "\n",
    "Overfitting is likely to occur in noisy data, or mislabelled data ect. Even perfectly labelled data can be noisy if the problem is ambiguous! (e.g when is a banana ripe?) It can be problematic when the model starts to overfit to data in regions that are ambiguous. \n",
    "\n",
    "Rare features and spurious correlations also cause overfitting. e.g. in a sentiment classification task if one word is present only once in the training dataset and it is a negative review, a very heavy weighting might be given to it when in reality it could have nothing to do with the review! There could be a data point in 100 samples that is leads to 54% positive, 46% negative reviews, the model would learn this! What if it had nothing to do with the outcome of the review and it was just chance that the 54/46 split is there!"
   ]
  },
  {
   "cell_type": "code",
   "execution_count": 9,
   "metadata": {},
   "outputs": [],
   "source": [
    "from tensorflow.keras.datasets import mnist\n",
    "import numpy as np\n",
    "\n",
    "(train_images, train_labels), _ = mnist.load_data()\n",
    "train_images = train_images.reshape((60000, 28 * 28))\n",
    "train_images = train_images.astype(\"float32\") / 255\n",
    "\n",
    "train_images_with_noise_channels = np.concatenate([train_images, np.random.random((len(train_images), 784))], axis=1)\n",
    "train_images_with_zeros_channels = np.concatenate([train_images, np.zeros((len(train_images), 784))], axis=1)"
   ]
  },
  {
   "cell_type": "code",
   "execution_count": 10,
   "metadata": {},
   "outputs": [
    {
     "name": "stdout",
     "output_type": "stream",
     "text": [
      "Epoch 1/10\n",
      "375/375 [==============================] - 1s 2ms/step - loss: 0.6362 - accuracy: 0.8099 - val_loss: 0.3625 - val_accuracy: 0.8904\n",
      "Epoch 2/10\n",
      "375/375 [==============================] - 1s 2ms/step - loss: 0.2506 - accuracy: 0.9226 - val_loss: 0.1934 - val_accuracy: 0.9420\n",
      "Epoch 3/10\n",
      "375/375 [==============================] - 1s 3ms/step - loss: 0.1650 - accuracy: 0.9487 - val_loss: 0.1533 - val_accuracy: 0.9570\n",
      "Epoch 4/10\n",
      "375/375 [==============================] - 1s 2ms/step - loss: 0.1179 - accuracy: 0.9630 - val_loss: 0.1304 - val_accuracy: 0.9617\n",
      "Epoch 5/10\n",
      "375/375 [==============================] - 1s 2ms/step - loss: 0.0876 - accuracy: 0.9724 - val_loss: 0.1372 - val_accuracy: 0.9614\n",
      "Epoch 6/10\n",
      "375/375 [==============================] - 0s 1ms/step - loss: 0.0644 - accuracy: 0.9797 - val_loss: 0.1439 - val_accuracy: 0.9617\n",
      "Epoch 7/10\n",
      "375/375 [==============================] - 1s 2ms/step - loss: 0.0475 - accuracy: 0.9846 - val_loss: 0.1332 - val_accuracy: 0.9657\n",
      "Epoch 8/10\n",
      "375/375 [==============================] - 1s 2ms/step - loss: 0.0369 - accuracy: 0.9877 - val_loss: 0.1390 - val_accuracy: 0.9629\n",
      "Epoch 9/10\n",
      "375/375 [==============================] - 1s 2ms/step - loss: 0.0270 - accuracy: 0.9908 - val_loss: 0.2081 - val_accuracy: 0.9537\n",
      "Epoch 10/10\n",
      "375/375 [==============================] - 1s 3ms/step - loss: 0.0213 - accuracy: 0.9933 - val_loss: 0.1414 - val_accuracy: 0.9668\n",
      "Epoch 1/10\n",
      "375/375 [==============================] - 1s 2ms/step - loss: 0.2896 - accuracy: 0.9159 - val_loss: 0.1539 - val_accuracy: 0.9551\n",
      "Epoch 2/10\n",
      "375/375 [==============================] - 1s 2ms/step - loss: 0.1192 - accuracy: 0.9649 - val_loss: 0.1117 - val_accuracy: 0.9663\n",
      "Epoch 3/10\n",
      "375/375 [==============================] - 1s 2ms/step - loss: 0.0759 - accuracy: 0.9774 - val_loss: 0.0922 - val_accuracy: 0.9739\n",
      "Epoch 4/10\n",
      "375/375 [==============================] - 1s 2ms/step - loss: 0.0545 - accuracy: 0.9839 - val_loss: 0.0870 - val_accuracy: 0.9722\n",
      "Epoch 5/10\n",
      "375/375 [==============================] - 1s 2ms/step - loss: 0.0400 - accuracy: 0.9883 - val_loss: 0.0897 - val_accuracy: 0.9746\n",
      "Epoch 6/10\n",
      "375/375 [==============================] - 1s 2ms/step - loss: 0.0308 - accuracy: 0.9911 - val_loss: 0.0830 - val_accuracy: 0.9780\n",
      "Epoch 7/10\n",
      "375/375 [==============================] - 1s 2ms/step - loss: 0.0234 - accuracy: 0.9933 - val_loss: 0.0780 - val_accuracy: 0.9792\n",
      "Epoch 8/10\n",
      "375/375 [==============================] - 1s 2ms/step - loss: 0.0178 - accuracy: 0.9950 - val_loss: 0.0806 - val_accuracy: 0.9790\n",
      "Epoch 9/10\n",
      "375/375 [==============================] - 0s 1ms/step - loss: 0.0134 - accuracy: 0.9964 - val_loss: 0.0831 - val_accuracy: 0.9783\n",
      "Epoch 10/10\n",
      "375/375 [==============================] - 0s 1ms/step - loss: 0.0104 - accuracy: 0.9969 - val_loss: 0.0826 - val_accuracy: 0.9792\n"
     ]
    }
   ],
   "source": [
    "from tensorflow import keras\n",
    "from tensorflow.keras import layers\n",
    "import matplotlib.pyplot as plt\n",
    "\n",
    "def get_model():\n",
    "    model = keras.Sequential([layers.Dense(512, activation=\"relu\"), layers.Dense(10, activation=\"softmax\")])\n",
    "    model.compile(optimizer=\"rmsprop\", loss=\"sparse_categorical_crossentropy\", metrics=[\"accuracy\"])\n",
    "    return model\n",
    "\n",
    "model = get_model()\n",
    "\n",
    "history_noise = model.fit(train_images_with_noise_channels, train_labels, epochs=10, batch_size=128, validation_split=0.2)\n",
    "\n",
    "model = get_model()\n",
    "\n",
    "history_zeros = model.fit(train_images_with_zeros_channels, train_labels, epochs=10, batch_size=128, validation_split=0.2)\n",
    "\n"
   ]
  },
  {
   "cell_type": "code",
   "execution_count": 11,
   "metadata": {},
   "outputs": [
    {
     "data": {
      "text/plain": [
       "<matplotlib.legend.Legend at 0x7feab4a621f0>"
      ]
     },
     "execution_count": 11,
     "metadata": {},
     "output_type": "execute_result"
    },
    {
     "data": {
      "image/png": "[encoded data removed]",
      "text/plain": [
       "<Figure size 432x288 with 1 Axes>"
      ]
     },
     "metadata": {
      "needs_background": "light"
     },
     "output_type": "display_data"
    }
   ],
   "source": [
    "val_acc_noise = history_noise.history[\"val_accuracy\"]\n",
    "val_acc_zeros = history_zeros.history[\"val_accuracy\"]\n",
    "epochs = range(1, 11)\n",
    "plt.plot(epochs, val_acc_noise, \"b-\",\n",
    "label=\"Validation accuracy with noise channels\")\n",
    "plt.plot(epochs, val_acc_zeros, \"b--\",\n",
    "label=\"Validation accuracy with zeros channels\")\n",
    "plt.title(\"Effect of noise channels on validation accuracy\")\n",
    "plt.xlabel(\"Epochs\")\n",
    "plt.ylabel(\"Accuracy\")\n",
    "plt.legend()"
   ]
  },
  {
   "cell_type": "markdown",
   "metadata": {},
   "source": [
    "Though the training data holds exactly the same information in both cases, the validation accuracy of the model trained with the noise performs a percentage point lower purely through the influence of spurious correlations!\n",
    "\n",
    "This is why it is common to perform feature selection before training. A typical way to do this is to compute some usefulness score for each feature available and only keep features that are above some threshold. Doing this would filter out the while noise channels!"
   ]
  },
  {
   "cell_type": "markdown",
   "metadata": {},
   "source": [
    "The input to the MNIST classifier is a 28x28 array of integers between 0-255. Thats 784^(256) possiblities! (Greater than the number of atoms in the universe!) Fortunately handwritten digits occupy a small subspace of this parent space, and this subspace is continuous! (Small changes to handwritten digits still count as digits!) Each individual digits subspace are connected by smooth paths. In technical terms, handwritten digits form a manifold within the space of possible 28x28 unit8 arrays. A manifold is a lower-dimensional subspace of some parent space. The manifold hypothesis posits thatl all natural data lies on a low-dimensional manifold within the high-dimensional space where it is encoded. Pretty strong statement!\n",
    "\n",
    "Within one of these manifolds it should be possible to interpolate between two inputs! (manifold interpolation is not the same as linear interpolation!) The ability to interpolate between samples is fundamental to understanding generalisation in deep learning. This only enables local generalisation, it will not help with things are not close to what is seen in the training dataset. \n",
    "\n",
    "For a model top perform well it needs to be trained on a dense sampling of its input space.\n",
    "\n",
    "One process to fight overfitting is known as regularisation, this involves forcing the optimisation process to focus on the most prominent patterns in the hope that they have a better chance of generalising well. "
   ]
  },
  {
   "cell_type": "markdown",
   "metadata": {},
   "source": [
    "General data is split into three sets: training, validation and test. Once a model is ready we test it one final time on the test data, which is meant to be as similiar as possible to production data. This is because developing a model always involves tuning hyperparamters (number of layers, size of layers, learing rate, epochs ect) as well as as the networks actual paramters (its weights). Since we use the validation dataset to evaulate the performance of the model, we want to avoid overfitting to that dataset even though the model has never trained on it. This is down to information leaks, since we evaluate the network on the validation set, everytime we change hyperparameters we are effectively tuning the network to perform artifically well on the validation set!\n",
    "\n",
    "There are few ways to split data into training, validation and test sets! We will cover simple holdout validation, K-fold validation, and iterated K-fold validation with shuffling. (plus some common-sense baselines!) "
   ]
  },
  {
   "cell_type": "markdown",
   "metadata": {},
   "source": [
    "Simple holdout validation"
   ]
  },
  {
   "cell_type": "code",
   "execution_count": 12,
   "metadata": {},
   "outputs": [
    {
     "ename": "NameError",
     "evalue": "name 'data' is not defined",
     "output_type": "error",
     "traceback": [
      "\u001b[0;31m---------------------------------------------------------------------------\u001b[0m",
      "\u001b[0;31mNameError\u001b[0m                                 Traceback (most recent call last)",
      "\u001b[1;32m/home/mike/Documents/Deep learning with Python/Chapter 5.ipynb Cell 9'\u001b[0m in \u001b[0;36m<cell line: 6>\u001b[0;34m()\u001b[0m\n\u001b[1;32m      <a href='vscode-notebook-cell:/home/mike/Documents/Deep%20learning%20with%20Python/Chapter%205.ipynb#ch0000008?line=0'>1</a>\u001b[0m \u001b[39m# This is the simplest evaluation protocal. If little data is avaialbe then the validation and test datasets may contain too few samples to represent the data.\u001b[39;00m\n\u001b[1;32m      <a href='vscode-notebook-cell:/home/mike/Documents/Deep%20learning%20with%20Python/Chapter%205.ipynb#ch0000008?line=1'>2</a>\u001b[0m \u001b[39m# This is easy to recognize! If random shuffles of the data before splitting result on very different model performance metrics we are suffering from this!\u001b[39;00m\n\u001b[1;32m      <a href='vscode-notebook-cell:/home/mike/Documents/Deep%20learning%20with%20Python/Chapter%205.ipynb#ch0000008?line=2'>3</a>\u001b[0m \u001b[39m# K-fold approaches can deal with this!\u001b[39;00m\n\u001b[1;32m      <a href='vscode-notebook-cell:/home/mike/Documents/Deep%20learning%20with%20Python/Chapter%205.ipynb#ch0000008?line=4'>5</a>\u001b[0m num_validation_samples \u001b[39m=\u001b[39m \u001b[39m10000\u001b[39m\n\u001b[0;32m----> <a href='vscode-notebook-cell:/home/mike/Documents/Deep%20learning%20with%20Python/Chapter%205.ipynb#ch0000008?line=5'>6</a>\u001b[0m np\u001b[39m.\u001b[39mrandom\u001b[39m.\u001b[39mshuffle(data)\n\u001b[1;32m      <a href='vscode-notebook-cell:/home/mike/Documents/Deep%20learning%20with%20Python/Chapter%205.ipynb#ch0000008?line=7'>8</a>\u001b[0m validation_data \u001b[39m=\u001b[39m data[:num_validation_samples]\n\u001b[1;32m      <a href='vscode-notebook-cell:/home/mike/Documents/Deep%20learning%20with%20Python/Chapter%205.ipynb#ch0000008?line=8'>9</a>\u001b[0m training_data \u001b[39m=\u001b[39m data[num_validation_samples:]\n",
      "\u001b[0;31mNameError\u001b[0m: name 'data' is not defined"
     ]
    }
   ],
   "source": [
    "# This is the simplest evaluation protocal. If little data is avaialbe then the validation and test datasets may contain too few samples to represent the data.\n",
    "# This is easy to recognize! If random shuffles of the data before splitting result on very different model performance metrics we are suffering from this!\n",
    "# K-fold approaches can deal with this!\n",
    "\n",
    "num_validation_samples = 10000\n",
    "np.random.shuffle(data)\n",
    "\n",
    "validation_data = data[:num_validation_samples]\n",
    "training_data = data[num_validation_samples:]\n",
    "model = get_model()\n",
    "mode.fit(training_data, ...)\n",
    "validation_score = model.evaluate(validation_data, ...)\n",
    "\n",
    "# Here we have trained on the training_data, and evalutated on the validation_data. At this point we could tune hyperparameters, retrain it, evalutate it, and continue the cycle. \n",
    "\n",
    "...\n",
    "\n",
    "model = get_model()\n",
    "model.fit(np.concatenate([training_data, validation_data]), ...) # Once hyperparameters are tuned, its common to train your final model from scratch on alll the non-test data available!\n",
    "test_score = model.evaluate(test_data, ...)"
   ]
  },
  {
   "cell_type": "markdown",
   "metadata": {},
   "source": [
    "K-fold validation"
   ]
  },
  {
   "cell_type": "code",
   "execution_count": null,
   "metadata": {},
   "outputs": [],
   "source": [
    "# We split our data into K partitions of equal size. For each partition i we train a model on the remaining K-1 partitions, evaluating on partition i. The final score is the average of the K scores. \n",
    "\n",
    "k = 3 \n",
    "num_validation_samples = len(data) // k\n",
    "np.random.shuffle(data)\n",
    "validation_scores = []\n",
    "\n",
    "for fold in range(k):\n",
    "    validation_data = data[num_validation_samples * fold:num_validation_samples * (fold + 1)]\n",
    "    training_data = np.concatenate(data[:num_validation_samples * fold], data[num_validation_samples * (fold + 1):])\n",
    "    model = get_model()\n",
    "    model.fit(training_data, ...)\n",
    "    validation_score = model.evaluate(validation_data, ...)\n",
    "    validation_scores.append(validation_score)\n",
    "validation_score = np.average(validation_scores)\n",
    "model = get_model()\n",
    "model.fit(data, ...) # trains the final model on all non-test data avaialble!\n",
    "test_score = model.evaluate(test_data, ...)"
   ]
  },
  {
   "cell_type": "markdown",
   "metadata": {},
   "source": [
    "Iterated K-fold validation with shuffling"
   ]
  },
  {
   "cell_type": "code",
   "execution_count": null,
   "metadata": {},
   "outputs": [],
   "source": [
    "# This basically consits of applying K-fold validation P times so we end up training K * P models! (Can be very expensive)"
   ]
  },
  {
   "cell_type": "markdown",
   "metadata": {},
   "source": [
    "Before training on a dataset we should alwaus pick a trivial baseline that we should try to beat! This could be the performance of a random classifier, or a very simple non-machine learning approach.\n",
    "If data appears more than once in a dataset, if it is randomly shuffled then split into train/validation sets it is possible the same data point exists in both sets. This is very bad! Ensure there is no redundancy in the data!"
   ]
  },
  {
   "cell_type": "markdown",
   "metadata": {},
   "source": [
    "Playing around with the gradient decent parameters like learning rate and batch size will help models train!"
   ]
  },
  {
   "cell_type": "code",
   "execution_count": null,
   "metadata": {},
   "outputs": [
    {
     "name": "stdout",
     "output_type": "stream",
     "text": [
      "Epoch 1/10\n",
      "188/188 [==============================] - 1s 3ms/step - loss: 0.4461 - accuracy: 0.8931 - val_loss: 0.1496 - val_accuracy: 0.9572\n",
      "Epoch 2/10\n",
      "188/188 [==============================] - 0s 2ms/step - loss: 0.1281 - accuracy: 0.9621 - val_loss: 0.1331 - val_accuracy: 0.9653\n",
      "Epoch 3/10\n",
      "188/188 [==============================] - 0s 2ms/step - loss: 0.0922 - accuracy: 0.9739 - val_loss: 0.1627 - val_accuracy: 0.9571\n",
      "Epoch 4/10\n",
      "188/188 [==============================] - 0s 2ms/step - loss: 0.0728 - accuracy: 0.9801 - val_loss: 0.1737 - val_accuracy: 0.9657\n",
      "Epoch 5/10\n",
      "188/188 [==============================] - 0s 2ms/step - loss: 0.0654 - accuracy: 0.9823 - val_loss: 0.1471 - val_accuracy: 0.9715\n",
      "Epoch 6/10\n",
      "188/188 [==============================] - 0s 2ms/step - loss: 0.0536 - accuracy: 0.9856 - val_loss: 0.1476 - val_accuracy: 0.9744\n",
      "Epoch 7/10\n",
      "188/188 [==============================] - 1s 3ms/step - loss: 0.0454 - accuracy: 0.9884 - val_loss: 0.1629 - val_accuracy: 0.9737\n",
      "Epoch 8/10\n",
      "188/188 [==============================] - 0s 2ms/step - loss: 0.0409 - accuracy: 0.9898 - val_loss: 0.1913 - val_accuracy: 0.9728\n",
      "Epoch 9/10\n",
      "188/188 [==============================] - 1s 3ms/step - loss: 0.0404 - accuracy: 0.9902 - val_loss: 0.2190 - val_accuracy: 0.9736\n",
      "Epoch 10/10\n",
      "188/188 [==============================] - 1s 3ms/step - loss: 0.0327 - accuracy: 0.9920 - val_loss: 0.2026 - val_accuracy: 0.9767\n"
     ]
    },
    {
     "data": {
      "text/plain": [
       "<keras.callbacks.History at 0x7feab53bb340>"
      ]
     },
     "execution_count": 7,
     "metadata": {},
     "output_type": "execute_result"
    }
   ],
   "source": [
    "(train_images, train_labels), _ = mnist.load_data()\n",
    "train_images = train_images.reshape(60000, 28*28)\n",
    "train_images = train_images.astype(\"float32\") / 255\n",
    "\n",
    "model = keras.Sequential([layers.Dense(512, activation=\"relu\"), layers.Dense(10, activation=\"softmax\")])\n",
    "model.compile(optimizer=keras.optimizers.RMSprop(1e-2), loss=\"sparse_categorical_crossentropy\", metrics=[\"accuracy\"]) # Here we pass a RMSprop object so we can specify the learning rate! \n",
    "model.fit(train_images, train_labels, epochs=10, batch_size=256, validation_split=0.2) # Increasing batch size with more samples means the gradients are more informative and less noisy. "
   ]
  },
  {
   "cell_type": "markdown",
   "metadata": {},
   "source": [
    "What happens if a model will train, but performance on the validation set isn't improving? This indicates something is fundamentally wrong with the approach. It may be that the input data simply doesn't contain sufficient information to predict our targets (e.g. if the labels are randomly shuffled this would happen!) It may also be that the model is not suited to the problem. Using a model that makes the correct assumptions about the problem is important!"
   ]
  },
  {
   "cell_type": "markdown",
   "metadata": {},
   "source": [
    "Here is a example of a small logistic regression model trained on the MNIST dataset. "
   ]
  },
  {
   "cell_type": "code",
   "execution_count": 17,
   "metadata": {},
   "outputs": [
    {
     "name": "stdout",
     "output_type": "stream",
     "text": [
      "Epoch 1/20\n",
      "375/375 [==============================] - 1s 2ms/step - loss: 0.6686 - accuracy: 0.8367 - val_loss: 0.3570 - val_accuracy: 0.9058\n",
      "Epoch 2/20\n",
      "375/375 [==============================] - 0s 952us/step - loss: 0.3513 - accuracy: 0.9034 - val_loss: 0.3074 - val_accuracy: 0.9158\n",
      "Epoch 3/20\n",
      "375/375 [==============================] - 0s 784us/step - loss: 0.3157 - accuracy: 0.9122 - val_loss: 0.2898 - val_accuracy: 0.9190\n",
      "Epoch 4/20\n",
      "375/375 [==============================] - 0s 815us/step - loss: 0.2995 - accuracy: 0.9166 - val_loss: 0.2807 - val_accuracy: 0.9212\n",
      "Epoch 5/20\n",
      "375/375 [==============================] - 1s 2ms/step - loss: 0.2896 - accuracy: 0.9188 - val_loss: 0.2764 - val_accuracy: 0.9247\n",
      "Epoch 6/20\n",
      "375/375 [==============================] - 1s 1ms/step - loss: 0.2835 - accuracy: 0.9207 - val_loss: 0.2720 - val_accuracy: 0.9245\n",
      "Epoch 7/20\n",
      "375/375 [==============================] - 1s 2ms/step - loss: 0.2784 - accuracy: 0.9219 - val_loss: 0.2704 - val_accuracy: 0.9262\n",
      "Epoch 8/20\n",
      "375/375 [==============================] - 1s 2ms/step - loss: 0.2744 - accuracy: 0.9233 - val_loss: 0.2664 - val_accuracy: 0.9275\n",
      "Epoch 9/20\n",
      "375/375 [==============================] - 1s 2ms/step - loss: 0.2714 - accuracy: 0.9245 - val_loss: 0.2662 - val_accuracy: 0.9274\n",
      "Epoch 10/20\n",
      "375/375 [==============================] - 1s 1ms/step - loss: 0.2689 - accuracy: 0.9256 - val_loss: 0.2639 - val_accuracy: 0.9270\n",
      "Epoch 11/20\n",
      "375/375 [==============================] - 1s 1ms/step - loss: 0.2666 - accuracy: 0.9264 - val_loss: 0.2641 - val_accuracy: 0.9278\n",
      "Epoch 12/20\n",
      "375/375 [==============================] - 0s 1ms/step - loss: 0.2648 - accuracy: 0.9266 - val_loss: 0.2626 - val_accuracy: 0.9293\n",
      "Epoch 13/20\n",
      "375/375 [==============================] - 1s 2ms/step - loss: 0.2630 - accuracy: 0.9271 - val_loss: 0.2619 - val_accuracy: 0.9302\n",
      "Epoch 14/20\n",
      "375/375 [==============================] - 0s 925us/step - loss: 0.2616 - accuracy: 0.9279 - val_loss: 0.2628 - val_accuracy: 0.9300\n",
      "Epoch 15/20\n",
      "375/375 [==============================] - 0s 1ms/step - loss: 0.2604 - accuracy: 0.9284 - val_loss: 0.2621 - val_accuracy: 0.9295\n",
      "Epoch 16/20\n",
      "375/375 [==============================] - 1s 1ms/step - loss: 0.2588 - accuracy: 0.9288 - val_loss: 0.2645 - val_accuracy: 0.9289\n",
      "Epoch 17/20\n",
      "375/375 [==============================] - 0s 837us/step - loss: 0.2582 - accuracy: 0.9295 - val_loss: 0.2599 - val_accuracy: 0.9314\n",
      "Epoch 18/20\n",
      "375/375 [==============================] - 0s 823us/step - loss: 0.2573 - accuracy: 0.9304 - val_loss: 0.2614 - val_accuracy: 0.9296\n",
      "Epoch 19/20\n",
      "375/375 [==============================] - 0s 935us/step - loss: 0.2562 - accuracy: 0.9299 - val_loss: 0.2606 - val_accuracy: 0.9309\n",
      "Epoch 20/20\n",
      "375/375 [==============================] - 0s 886us/step - loss: 0.2556 - accuracy: 0.9300 - val_loss: 0.2618 - val_accuracy: 0.9299\n"
     ]
    },
    {
     "data": {
      "text/plain": [
       "<matplotlib.legend.Legend at 0x7feaa4541d30>"
      ]
     },
     "execution_count": 17,
     "metadata": {},
     "output_type": "execute_result"
    },
    {
     "data": {
      "image/png": "[encoded data removed]",
      "text/plain": [
       "<Figure size 432x288 with 1 Axes>"
      ]
     },
     "metadata": {
      "needs_background": "light"
     },
     "output_type": "display_data"
    }
   ],
   "source": [
    "from tensorflow import keras\n",
    "from keras import layers\n",
    "import matplotlib.pyplot as plt\n",
    "\n",
    "model = keras.Sequential([layers.Dense(10, activation=\"softmax\")])\n",
    "model.compile(optimizer=\"rmsprop\", loss=\"sparse_categorical_crossentropy\", metrics=[\"accuracy\"])\n",
    "history_small_model = model.fit(train_images, train_labels, epochs=20, batch_size=128, validation_split=0.2)\n",
    "\n",
    "val_loss = history_small_model.history[\"val_loss\"]\n",
    "epochs = range(1, 21)\n",
    "plt.plot(epochs, val_loss, \"b--\",\n",
    "label=\"Validation loss\")\n",
    "plt.title(\"Effect of insufficient model capacity on validation loss\")\n",
    "plt.xlabel(\"Epochs\")\n",
    "plt.ylabel(\"Loss\")\n",
    "plt.legend()"
   ]
  },
  {
   "cell_type": "markdown",
   "metadata": {},
   "source": [
    "We reach a point where the validation loss stagnates, it is still decreasing, just very slowly! Remember it should always be possible to overtrain on data, and we want to overtrain to find where that border is!\n",
    "\n",
    "The problem here is likely the representational power of a model. We are going to need a bigger model to be able to store more information. We do this by adding more layers or making layers larger (or both!)"
   ]
  },
  {
   "cell_type": "code",
   "execution_count": 19,
   "metadata": {},
   "outputs": [
    {
     "name": "stdout",
     "output_type": "stream",
     "text": [
      "Epoch 1/20\n",
      "375/375 [==============================] - 1s 3ms/step - loss: 0.3642 - accuracy: 0.8974 - val_loss: 0.1905 - val_accuracy: 0.9425\n",
      "Epoch 2/20\n",
      "375/375 [==============================] - 1s 3ms/step - loss: 0.1604 - accuracy: 0.9526 - val_loss: 0.1393 - val_accuracy: 0.9582\n",
      "Epoch 3/20\n",
      "375/375 [==============================] - 1s 4ms/step - loss: 0.1149 - accuracy: 0.9650 - val_loss: 0.1236 - val_accuracy: 0.9622\n",
      "Epoch 4/20\n",
      "375/375 [==============================] - 1s 2ms/step - loss: 0.0876 - accuracy: 0.9731 - val_loss: 0.0997 - val_accuracy: 0.9697\n",
      "Epoch 5/20\n",
      "375/375 [==============================] - 1s 2ms/step - loss: 0.0705 - accuracy: 0.9791 - val_loss: 0.1125 - val_accuracy: 0.9672\n",
      "Epoch 6/20\n",
      "375/375 [==============================] - 1s 2ms/step - loss: 0.0573 - accuracy: 0.9823 - val_loss: 0.0917 - val_accuracy: 0.9739\n",
      "Epoch 7/20\n",
      "375/375 [==============================] - 1s 1ms/step - loss: 0.0470 - accuracy: 0.9857 - val_loss: 0.0898 - val_accuracy: 0.9750\n",
      "Epoch 8/20\n",
      "375/375 [==============================] - 1s 2ms/step - loss: 0.0391 - accuracy: 0.9885 - val_loss: 0.0953 - val_accuracy: 0.9751\n",
      "Epoch 9/20\n",
      "375/375 [==============================] - 1s 2ms/step - loss: 0.0339 - accuracy: 0.9897 - val_loss: 0.0906 - val_accuracy: 0.9749\n",
      "Epoch 10/20\n",
      "375/375 [==============================] - 1s 2ms/step - loss: 0.0280 - accuracy: 0.9918 - val_loss: 0.0978 - val_accuracy: 0.9755\n",
      "Epoch 11/20\n",
      "375/375 [==============================] - 1s 2ms/step - loss: 0.0232 - accuracy: 0.9929 - val_loss: 0.0947 - val_accuracy: 0.9759\n",
      "Epoch 12/20\n",
      "375/375 [==============================] - 1s 2ms/step - loss: 0.0194 - accuracy: 0.9940 - val_loss: 0.0995 - val_accuracy: 0.9757\n",
      "Epoch 13/20\n",
      "375/375 [==============================] - 1s 2ms/step - loss: 0.0163 - accuracy: 0.9952 - val_loss: 0.1095 - val_accuracy: 0.9752\n",
      "Epoch 14/20\n",
      "375/375 [==============================] - 1s 2ms/step - loss: 0.0141 - accuracy: 0.9956 - val_loss: 0.1178 - val_accuracy: 0.9746\n",
      "Epoch 15/20\n",
      "375/375 [==============================] - 1s 2ms/step - loss: 0.0121 - accuracy: 0.9961 - val_loss: 0.1213 - val_accuracy: 0.9729\n",
      "Epoch 16/20\n",
      "375/375 [==============================] - 1s 1ms/step - loss: 0.0105 - accuracy: 0.9969 - val_loss: 0.1172 - val_accuracy: 0.9745\n",
      "Epoch 17/20\n",
      "375/375 [==============================] - 0s 1ms/step - loss: 0.0085 - accuracy: 0.9973 - val_loss: 0.1270 - val_accuracy: 0.9755\n",
      "Epoch 18/20\n",
      "375/375 [==============================] - 1s 2ms/step - loss: 0.0071 - accuracy: 0.9979 - val_loss: 0.1232 - val_accuracy: 0.9764\n",
      "Epoch 19/20\n",
      "375/375 [==============================] - 1s 2ms/step - loss: 0.0069 - accuracy: 0.9977 - val_loss: 0.1388 - val_accuracy: 0.9761\n",
      "Epoch 20/20\n",
      "375/375 [==============================] - 1s 2ms/step - loss: 0.0057 - accuracy: 0.9982 - val_loss: 0.1401 - val_accuracy: 0.9752\n"
     ]
    },
    {
     "data": {
      "text/plain": [
       "<matplotlib.legend.Legend at 0x7feaa47e3f10>"
      ]
     },
     "execution_count": 19,
     "metadata": {},
     "output_type": "execute_result"
    },
    {
     "data": {
      "image/png": "[encoded data removed]",
      "text/plain": [
       "<Figure size 432x288 with 1 Axes>"
      ]
     },
     "metadata": {
      "needs_background": "light"
     },
     "output_type": "display_data"
    }
   ],
   "source": [
    "model = keras.Sequential([layers.Dense(96, activation=\"relu\"), layers.Dense(96, activation=\"relu\"), layers.Dense(10, activation=\"softmax\")])\n",
    "model.compile(optimizer=\"rmsprop\", loss=\"sparse_categorical_crossentropy\", metrics=[\"accuracy\"])\n",
    "history_large_model = model.fit(train_images, train_labels, epochs=20, batch_size=128, validation_split=0.2)\n",
    "\n",
    "val_loss = history_large_model.history[\"val_loss\"]\n",
    "epochs = range(1, 21)\n",
    "plt.plot(epochs, val_loss, \"b--\",\n",
    "label=\"Validation loss\")\n",
    "plt.title(\"Effect of insufficient model capacity on validation loss\")\n",
    "plt.xlabel(\"Epochs\")\n",
    "plt.ylabel(\"Loss\")\n",
    "plt.legend()"
   ]
  },
  {
   "cell_type": "markdown",
   "metadata": {},
   "source": [
    "Once the model has shown to have some generalisation power and it can overfit to the data, it is time to switch focus to maximising the generalisation of the model.\n",
    "\n",
    "Here are some tips: Make sure we have enough data, minimise labelling errors, clean the data and deal with missing values, if there are several features and you aren't sure which ones are actually useful, perform feature selection!"
   ]
  },
  {
   "cell_type": "markdown",
   "metadata": {},
   "source": [
    "Feature engineering is the process of using your own knowledge of the data and the model to improve performance by applying hardcoded (non-learned) transformations to data before it is inputted into the model, making the models job easier! Good features let you solve the problem with dat less data. "
   ]
  },
  {
   "cell_type": "markdown",
   "metadata": {},
   "source": [
    "Finding the exact boundary between under and overfitting is one of the best ways to improve generalisation! In Keras we can do this with an EarlyStopping callback, which interupts training as soon as the validation metrics have stopped improving, while remembering the model known model state. More about this in chapter 7!"
   ]
  }
 ],
 "metadata": {
  "interpreter": {
   "hash": "916dbcbb3f70747c44a77c7bcd40155683ae19c65e1c03b4aa3499c5328201f1"
  },
  "kernelspec": {
   "display_name": "Python 3.8.10 64-bit",
   "language": "python",
   "name": "python3"
  },
  "language_info": {
   "codemirror_mode": {
    "name": "ipython",
    "version": 3
   },
   "file_extension": ".py",
   "mimetype": "text/x-python",
   "name": "python",
   "nbconvert_exporter": "python",
   "pygments_lexer": "ipython3",
   "version": "3.8.10"
  },
  "orig_nbformat": 4
 },
 "nbformat": 4,
 "nbformat_minor": 2
}
